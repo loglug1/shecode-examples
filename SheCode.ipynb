{
 "cells": [
  {
   "cell_type": "code",
   "execution_count": 1,
   "metadata": {},
   "outputs": [
    {
     "name": "stdout",
     "output_type": "stream",
     "text": [
      "Hello\n",
      "Hello SheCode\n"
     ]
    }
   ],
   "source": [
    "shecode = \"Hello\"\n",
    "print(shecode) # this runs first\n",
    "\n",
    "shecode = \"Hello SheCode\"\n",
    "print(shecode) # this runs second"
   ]
  },
  {
   "cell_type": "code",
   "execution_count": null,
   "metadata": {},
   "outputs": [],
   "source": [
    "a = \"Roll Cougs!\" #     String\n",
    "b = 25 #                Integer\n",
    "c = 2.5 #               Float\n",
    "d = [\"1\", \"2\", \"3\"] #   List (of strings) Note: str not int"
   ]
  },
  {
   "cell_type": "code",
   "execution_count": 1,
   "metadata": {},
   "outputs": [
    {
     "name": "stdout",
     "output_type": "stream",
     "text": [
      "10\n",
      "0.4\n",
      "7\n",
      "-3\n",
      "-9\n",
      "ChocolateCake\n"
     ]
    }
   ],
   "source": [
    "print(2 * 5) #              asterisk for multiplication\n",
    "print(2 / 5) #              forward slash for divish\n",
    "print(2 + 5) #              plus for addition\n",
    "print(2 - 5) #              dash for subtraction\n",
    "print((2 - 5) * 3) #        PEMDAS\n",
    "print(\"Chocolate\"+\"Cake\") # plus for concatenating strings (in python) Note: space is not added"
   ]
  },
  {
   "cell_type": "code",
   "execution_count": 17,
   "metadata": {},
   "outputs": [
    {
     "name": "stdout",
     "output_type": "stream",
     "text": [
      "Hello Eddie!\n",
      "Hello Alison!\n"
     ]
    }
   ],
   "source": [
    "def greet(name):\n",
    "    print(f\"Hello {name}!\")\n",
    "\n",
    "greet(\"Eddie\") # Note: reads like English\n",
    "greet(\"Alison\")"
   ]
  },
  {
   "cell_type": "code",
   "execution_count": 18,
   "metadata": {},
   "outputs": [
    {
     "name": "stdout",
     "output_type": "stream",
     "text": [
      "14\n"
     ]
    }
   ],
   "source": [
    "def f(x):\n",
    "    return x*3\n",
    "\n",
    "value = f(4) + 2\n",
    "print(value)"
   ]
  },
  {
   "cell_type": "code",
   "execution_count": 3,
   "metadata": {},
   "outputs": [
    {
     "name": "stdout",
     "output_type": "stream",
     "text": [
      "The password is incorrect!\n"
     ]
    }
   ],
   "source": [
    "password = \"SIUE\"\n",
    "\n",
    "user_input = input(\"What's the password: \")\n",
    "\n",
    "if user_input == password: # checks if user_input is equal to password, either true or false\n",
    "    print(\"Access granted!\")\n",
    "else:\n",
    "    print(\"The password is incorrect!\")\n",
    "\n",
    "# notice that it will only ask once before hand and never ask again"
   ]
  },
  {
   "cell_type": "code",
   "execution_count": 4,
   "metadata": {},
   "outputs": [
    {
     "name": "stdout",
     "output_type": "stream",
     "text": [
      "The password is incorrect!\n",
      "The password is incorrect!\n",
      "The password is incorrect!\n",
      "Access granted!\n"
     ]
    }
   ],
   "source": [
    "password = \"SIUE\"\n",
    "\n",
    "user_input = input(\"What's the password: \")\n",
    "\n",
    "while user_input != password: # checks if user_input is NOT equal to password, either true or false\n",
    "    print(\"The password is incorrect!\")\n",
    "    user_input = input(\"What's the password:\")\n",
    "    # at the end of the loop, it goes back to the top and checks condition again\n",
    "\n",
    "print(\"Access granted!\")"
   ]
  },
  {
   "cell_type": "code",
   "execution_count": 12,
   "metadata": {},
   "outputs": [
    {
     "name": "stdout",
     "output_type": "stream",
     "text": [
      "You need milk to craft a cake!\n",
      "You need sugar to craft a cake!\n",
      "You need eggs to craft a cake!\n",
      "You need wheat to craft a cake!\n"
     ]
    }
   ],
   "source": [
    "ingredients = [\"milk\", \"sugar\", \"eggs\", \"wheat\"]\n",
    "\n",
    "for ingredient in ingredients: # ingredient = ingredients[0]; ingredient = ingredients[1];\n",
    "    print(f\"You need {ingredient} to craft a cake!\")"
   ]
  },
  {
   "cell_type": "code",
   "execution_count": 13,
   "metadata": {},
   "outputs": [
    {
     "name": "stdout",
     "output_type": "stream",
     "text": [
      "6 * 1 = 6\n",
      "6 * 2 = 12\n",
      "6 * 3 = 18\n",
      "6 * 4 = 24\n"
     ]
    }
   ],
   "source": [
    "x = 6\n",
    "\n",
    "for y in range(1,5): # range(1,5) creates a list [1, 2, 3, 4]\n",
    "    print(f\"{x} * {y} = {x * y}\")"
   ]
  },
  {
   "cell_type": "code",
   "execution_count": 117,
   "metadata": {},
   "outputs": [
    {
     "data": {
      "text/plain": [
       "<Axes: xlabel='Recip_State'>"
      ]
     },
     "execution_count": 117,
     "metadata": {},
     "output_type": "execute_result"
    },
    {
     "data": {
      "image/png": "[encoded data removed]",
      "text/plain": [
       "<Figure size 1500x500 with 1 Axes>"
      ]
     },
     "metadata": {},
     "output_type": "display_data"
    }
   ],
   "source": [
    "import pandas\n",
    "\n",
    "data_frame = pandas.read_csv(\"COVID-19_Vaccinations_in_the_United_States_County.csv\", usecols=['Recip_State', 'Completeness_pct'])\n",
    "means_df = data_frame.dropna().groupby('Recip_State')['Completeness_pct'].mean().sort_index()\n",
    "means_df.loc[means_df != 0].plot.bar(figsize=(15,5))"
   ]
  }
 ],
 "metadata": {
  "kernelspec": {
   "display_name": "Python 3",
   "language": "python",
   "name": "python3"
  },
  "language_info": {
   "codemirror_mode": {
    "name": "ipython",
    "version": 3
   },
   "file_extension": ".py",
   "mimetype": "text/x-python",
   "name": "python",
   "nbconvert_exporter": "python",
   "pygments_lexer": "ipython3",
   "version": "3.12.4"
  }
 },
 "nbformat": 4,
 "nbformat_minor": 2
}
